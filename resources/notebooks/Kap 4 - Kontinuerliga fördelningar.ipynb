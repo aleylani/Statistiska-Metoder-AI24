{
 "cells": [
  {
   "cell_type": "markdown",
   "id": "0bd96029",
   "metadata": {},
   "source": [
    "## Expontentialfördelning"
   ]
  },
  {
   "cell_type": "code",
   "execution_count": null,
   "id": "5f941328",
   "metadata": {},
   "outputs": [],
   "source": [
    "import math\n",
    "import numpy as np\n",
    "import matplotlib.pyplot as plt"
   ]
  },
  {
   "cell_type": "code",
   "execution_count": null,
   "id": "e0b7af96",
   "metadata": {},
   "outputs": [],
   "source": [
    "my = 2             # ange ditt medelvärden här\n",
    "\n",
    "def f(x, my): \n",
    "    \n",
    "    return (1/my)*(math.e**(-x/my))\n",
    "\n",
    "\n",
    "x_vals = [x for x in np.linspace(0, 20, 100)]\n",
    "y_vals = [f(x,my) for x in np.linspace(0, 20 , 100)]\n",
    "\n",
    "plt.plot(x_vals, y_vals, label = f'$\\mu$ = {my}')\n",
    "plt.legend()\n",
    "\n",
    "plt.title('Exponentialfördelning')\n",
    "plt.ylabel('f(x)')\n",
    "plt.xlabel('x')\n",
    "plt.show();"
   ]
  },
  {
   "cell_type": "code",
   "execution_count": null,
   "id": "0cba9e2a",
   "metadata": {},
   "outputs": [],
   "source": [
    "import math\n",
    "\n",
    "mys = [2,4]             # ange dina medelvärden här\n",
    "\n",
    "def f(x, my): \n",
    "    \n",
    "    return (1/my)*(math.e**(-x/my))\n",
    "\n",
    "\n",
    "for my in mys:\n",
    "\n",
    "    x_vals = [x for x in np.linspace(0, 20, 100)]\n",
    "    y_vals = [f(x,my) for x in np.linspace(0, 20 , 100)]\n",
    "\n",
    "    plt.plot(x_vals, y_vals, label = f'$\\mu$ = {my}')\n",
    "    plt.legend()\n",
    "\n",
    "plt.title('Exponentialfördelning')\n",
    "plt.ylabel('f(x)')\n",
    "plt.xlabel('x')\n",
    "plt.show();"
   ]
  },
  {
   "cell_type": "markdown",
   "id": "0ae6ca2a",
   "metadata": {},
   "source": [
    "## Normalfördelning"
   ]
  },
  {
   "cell_type": "code",
   "execution_count": null,
   "id": "6c784eeb",
   "metadata": {},
   "outputs": [],
   "source": [
    "def f(x, my, sigma): \n",
    "    \n",
    "    return math.e**(-0.5*((x-my)/sigma)**2)/(sigma*math.sqrt(2*math.pi))"
   ]
  },
  {
   "cell_type": "markdown",
   "id": "7df98398",
   "metadata": {},
   "source": [
    "Hur påverkar medelvärdet utseendet på fördelningen?"
   ]
  },
  {
   "cell_type": "code",
   "execution_count": null,
   "id": "12720c8c",
   "metadata": {},
   "outputs": [],
   "source": [
    "import math\n",
    "\n",
    "mys = [1350]                # ange dina medelvärden här\n",
    "sigma = 240                # ange den gemensamma standardavvikelsen här\n",
    "\n",
    "for my in mys:\n",
    "\n",
    "    x_vals = [x for x in np.linspace(min(mys)-4*sigma, max(mys)+4*sigma, 100)]\n",
    "    y_vals = [f(x,my, sigma) for x in np.linspace(min(mys)-4*sigma, max(mys)+4*sigma , 100)]\n",
    "\n",
    "    plt.plot(x_vals, y_vals, label = f'$\\mu$ = {my}, $\\sigma$ = {sigma}')\n",
    "\n",
    "\n",
    "plt.title('Normaldistribution')\n",
    "plt.ylabel('f(x)')\n",
    "plt.xlabel('x')\n",
    "plt.legend()\n",
    "plt.legend(bbox_to_anchor=(1.0, 1.0), loc='upper left')\n",
    "plt.show();"
   ]
  },
  {
   "cell_type": "code",
   "execution_count": null,
   "id": "54fb5c16",
   "metadata": {},
   "outputs": [],
   "source": [
    "import math\n",
    "\n",
    "mys = [-2, 0, 2]         # ange dina medelvärden här\n",
    "sigma = 1                # ange den gemensamma standardavvikelsen här\n",
    "\n",
    "for my in mys:\n",
    "\n",
    "    x_vals = [x for x in np.linspace(min(mys)-4*sigma, max(mys)+4*sigma, 100)]\n",
    "    y_vals = [f(x,my, sigma) for x in np.linspace(min(mys)-4*sigma, max(mys)+4*sigma , 100)]\n",
    "\n",
    "    plt.plot(x_vals, y_vals, label = f'$\\mu$ = {my}, $\\sigma$ = {sigma}')\n",
    "    plt.legend()\n",
    "\n",
    "plt.title('Normaldistribution')\n",
    "plt.ylabel('f(x)')\n",
    "plt.xlabel('x')\n",
    "plt.show();"
   ]
  },
  {
   "cell_type": "markdown",
   "id": "4c24ef30",
   "metadata": {},
   "source": [
    "Hur påverkar standardavvikelsen utseendet på fördelningen?"
   ]
  },
  {
   "cell_type": "code",
   "execution_count": null,
   "id": "9c03e929",
   "metadata": {},
   "outputs": [],
   "source": [
    "import math\n",
    "\n",
    "my = 0                  # ange det gemensamma medelvärdet här\n",
    "sigmas = [1,2,4]        # ange dina standardavvikelser här\n",
    "\n",
    "for sigma in sigmas:\n",
    "\n",
    "    x_vals = [x for x in np.linspace(-10, 10, 100)]\n",
    "    y_vals = [f(x,my, sigma) for x in np.linspace(-10, 10 , 100)]\n",
    "\n",
    "    plt.plot(x_vals, y_vals, label = f'$\\mu$ = {my}, $\\sigma$ = {sigma}')\n",
    "    plt.legend()\n",
    "\n",
    "plt.title('Normaldistribution')\n",
    "plt.ylabel('f(x)')\n",
    "plt.xlabel('x')\n",
    "plt.show();"
   ]
  },
  {
   "cell_type": "markdown",
   "id": "bfa5e6cb",
   "metadata": {},
   "source": [
    "Arean under grafen för alla normalfördelningar följer ett väldigt specifikt mönster! Sannolikheterna (arean under grafen) inom givna avstånd (mätt i standardavvikelser) från medelvärdet är nämligen fixed."
   ]
  },
  {
   "cell_type": "code",
   "execution_count": null,
   "id": "f2318fae",
   "metadata": {},
   "outputs": [],
   "source": [
    "import math\n",
    "\n",
    "my = 168               # ange ditt medelvärde här\n",
    "sigma = 7.7            # ange din standardavvikelse här\n",
    "\n",
    "x_vals = [x for x in np.linspace(my-4*sigma, my+4*sigma, 100)]\n",
    "y_vals = [f(x,my, sigma) for x in np.linspace(my-4*sigma, my+4*sigma, 100)]\n",
    "\n",
    "plt.plot(x_vals, y_vals, label = fr'$\\mu$ = {my}, $\\sigma$ = {sigma}')\n",
    "plt.legend()\n",
    "\n",
    "# Shade the area within ±1 standard deviation with one color\n",
    "plt.fill_between(x_vals, 0, y_vals, where=[(x >= my - sigma) and (x <= my + sigma) for x in x_vals], alpha=0.8, color='green')\n",
    "\n",
    "# Shade the area within ±2 standard deviations with another color\n",
    "plt.fill_between(x_vals, 0, y_vals, where=[(x >= my - 2 * sigma) and (x <= my + 2 * sigma) for x in x_vals], alpha=0.5, color='orange')\n",
    "\n",
    "# Shade the area within ±2 standard deviations with another color\n",
    "plt.fill_between(x_vals, 0, y_vals, where=[(x >= my - 2 * sigma) and (x <= my + 2 * sigma) for x in x_vals], alpha=0.5, color='orange')\n",
    "\n",
    "# Shade the area within ±3 standard deviations with another color\n",
    "plt.fill_between(x_vals, 0, y_vals, where=[(x >= my - 3 * sigma) and (x <= my + 3 * sigma) for x in x_vals], alpha=0.3, color='green')\n",
    "\n",
    "# Set x-ticks for +- 1, 2, and 3 standard deviations\n",
    "ticks = [my - 3 * sigma, my - 2 * sigma, my - sigma, my, my + sigma, my + 2 * sigma, my + 3 * sigma]\n",
    "\n",
    "# Add a vertical line from the mean to the x-axis\n",
    "plt.annotate('', xy=(my, max(y_vals)), xytext=(my, 0), arrowprops=dict(arrowstyle='-', linestyle='--', color='black'))\n",
    "\n",
    "plt.xticks(ticks, rotation=45)\n",
    "\n",
    "plt.legend()\n",
    "plt.ylim(0)\n",
    "plt.title('Normaldistribution')\n",
    "plt.ylabel('f(x)')\n",
    "plt.xlabel('x')\n",
    "plt.show()"
   ]
  },
  {
   "cell_type": "code",
   "execution_count": null,
   "id": "ba85cc85",
   "metadata": {},
   "outputs": [],
   "source": [
    "import numpy as np\n",
    "import matplotlib.pyplot as plt\n",
    "import math\n",
    "\n",
    "my = 10                   # ange det gemensamma medelvärdet här\n",
    "sigmas = [6, 10, 20]      # ange dina standardavvikelser här\n",
    "\n",
    "fig, axes = plt.subplots(1, 3, figsize=(20, 5))  # 1 row, 3 columns for three subplots\n",
    "\n",
    "y_max = max([f(my, my, sigma) for sigma in sigmas])\n",
    "x_min = my-5*sigmas[-1]\n",
    "x_max = my+5*sigmas[-1]\n",
    "\n",
    "\n",
    "for i, sigma in enumerate(sigmas):\n",
    "    x_vals = np.linspace(my-5*sigma, my+5*sigma, 100)\n",
    "    y_vals = [f(x, my, sigma) for x in x_vals]\n",
    "\n",
    "    label = fr'$\\mu$: {my}, $\\sigma$: {sigma}'  # Using LaTeX formatting\n",
    "    axes[i].plot(x_vals, y_vals, label=label)\n",
    "    \n",
    "    # Shade the area within ±1 standard deviation with one color\n",
    "    axes[i].fill_between(x_vals, 0, y_vals, where=[(x >= my - sigma) and (x <= my + sigma) for x in x_vals], alpha=0.3, label=r'$\\pm 1 \\sigma$')\n",
    "\n",
    "    # Shade the area within ±2 standard deviations with another color\n",
    "    axes[i].fill_between(x_vals, 0, y_vals, where=[(x >= my - 2 * sigma) and (x <= my + 2 * sigma) for x in x_vals], alpha=0.3, label=r'$\\pm 2 \\sigma$', color='orange')\n",
    "\n",
    "    # Shade the area within ±3 standard deviations with another color\n",
    "    axes[i].fill_between(x_vals, 0, y_vals, where=[(x >= my - 3 * sigma) and (x <= my + 3 * sigma) for x in x_vals], alpha=0.3, label=r'$\\pm 3 \\sigma$', color='green')\n",
    "\n",
    "    axes[i].annotate('', xy=(my, max(y_vals)), xytext=(my, 0), arrowprops=dict(arrowstyle='-', linestyle='--', color='black'), label='Mean')\n",
    "\n",
    "    ticks = [my - 3 * sigma, my - 2 * sigma, my - sigma, my, my + sigma, my + 2 * sigma, my + 3 * sigma]\n",
    "    axes[i].set_xticks(ticks)\n",
    "    axes[i].set_xticklabels(ticks, rotation=45)  # Rotate x-tick labels by 45 degrees\n",
    "\n",
    "    # Set y-axis limit to start from zero\n",
    "    axes[i].set_ylim(0, 1.1*y_max)\n",
    "    axes[i].set_xlim(x_min, x_max)\n",
    "\n",
    "    axes[i].set_title(f'$\\mu$ = {my}, $\\sigma$ = {sigma}')\n",
    "\n",
    "plt.suptitle('Normal distributions with different $\\sigma$ values. The probabilities (areas under the graph) follow the same pattern independent of $\\sigma$.')\n",
    "plt.show()"
   ]
  },
  {
   "cell_type": "markdown",
   "id": "37dab57d",
   "metadata": {},
   "source": [
    "**Additivitet av normalfördelningar**"
   ]
  },
  {
   "cell_type": "markdown",
   "id": "e8cdb66b",
   "metadata": {},
   "source": [
    "Om man slumpmässigt drar urval från flera olika normalfördelningar, blir resultatet av dina urval i sig normalfördelat"
   ]
  },
  {
   "cell_type": "code",
   "execution_count": null,
   "id": "f1e3c531",
   "metadata": {},
   "outputs": [],
   "source": [
    "import numpy as np\n",
    "import matplotlib.pyplot as plt\n",
    "import math\n",
    "\n",
    "mys = [85, 68]      # ange dina medelvärden här\n",
    "sigmas = [10, 6]      # ange dina standardavvikelser här\n",
    "\n",
    "mys.append(sum(mys))\n",
    "sigmas.append(np.sqrt(sum([sig**2 for sig in sigmas])))\n",
    "\n",
    "y_max = max([f(my, my, sigma) for sigma in sigmas])\n",
    "x_min = my-5*sigmas[-1]\n",
    "x_max = my+5*sigmas[-1]\n",
    "\n",
    "all_x_vals = []\n",
    "\n",
    "for i, (my, sigma) in enumerate(zip(mys,sigmas)):\n",
    "    x_vals = np.linspace(my-4*sigma, my+4*sigma, 100)\n",
    "    y_vals = [f(x, my, sigma) for x in x_vals]\n",
    "\n",
    "    if i != len(sigmas)-1:\n",
    "        label = f'$X_{i} -  N({mys[i]}, {sigmas[i]})$'\n",
    "    else:\n",
    "        label = f'$S -  N({mys[i]}, {np.round(sigmas[i],1)})$'\n",
    "\n",
    "    plt.plot(x_vals, y_vals, label=label)\n",
    "    \n",
    "    plt.annotate('', xy=(my, max(y_vals)), xytext=(my, 0), arrowprops=dict(arrowstyle='-', linestyle='--', color='black'))\n",
    "\n",
    "plt.title('Highlighting the additative nature of normal distributions')\n",
    "plt.ylim(0, 1.1*y_max)\n",
    "plt.legend(bbox_to_anchor=(1.0, 1.0), loc='upper left')\n",
    "plt.show()"
   ]
  },
  {
   "cell_type": "code",
   "execution_count": null,
   "id": "9b214062",
   "metadata": {},
   "outputs": [],
   "source": []
  }
 ],
 "metadata": {
  "kernelspec": {
   "display_name": "Python 3 (ipykernel)",
   "language": "python",
   "name": "python3"
  },
  "language_info": {
   "codemirror_mode": {
    "name": "ipython",
    "version": 3
   },
   "file_extension": ".py",
   "mimetype": "text/x-python",
   "name": "python",
   "nbconvert_exporter": "python",
   "pygments_lexer": "ipython3",
   "version": "3.11.5"
  }
 },
 "nbformat": 4,
 "nbformat_minor": 5
}
