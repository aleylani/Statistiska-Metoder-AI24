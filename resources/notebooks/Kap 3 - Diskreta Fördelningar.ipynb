{
 "cells": [
  {
   "cell_type": "code",
   "execution_count": 1,
   "metadata": {},
   "outputs": [],
   "source": [
    "import random\n",
    "\n",
    "import pandas as pd\n",
    "import seaborn as sns\n",
    "\n",
    "import matplotlib.pyplot as plt"
   ]
  },
  {
   "cell_type": "markdown",
   "metadata": {},
   "source": [
    "Beräkna expected value, experimental value och plotta outcomes för en likformig sannolikhetsfördelning med 6 outcomes (ex en tärning)"
   ]
  },
  {
   "cell_type": "code",
   "execution_count": 4,
   "metadata": {},
   "outputs": [],
   "source": [
    "antal_experiment = 20"
   ]
  },
  {
   "cell_type": "code",
   "execution_count": null,
   "metadata": {},
   "outputs": [],
   "source": [
    "numbers = [1, 2, 3, 4, 5, 6]\n",
    "probabilities = [1/6, 1/6, 1/6, 1/6, 1/6, 1/6] # the probability for each outcome\n",
    " \n",
    "expected_value = sum([number*probability for number, probability in zip(numbers, probabilities)])\n",
    "print(f'Expected value E(X) = {expected_value}')\n",
    "\n",
    "outcomes = random.choices(numbers , k=antal_experiment)\n",
    "\n",
    "experimental_mean_value = sum(outcomes)/len(outcomes)\n",
    "print(f'Experimental mean value = {experimental_mean_value}')\n",
    "\n",
    "outcomes_df = pd.DataFrame(outcomes)\n",
    "outcomes_df.rename(columns={0: 'outcome'}, inplace=True)\n",
    "\n",
    "\n",
    "fig = sns.countplot(outcomes_df, x='outcome', hue='outcome')\n",
    "fig.set_title(f'Countplot over outcomes with n= {antal_experiment}');\n",
    "fig.set_xlabel('Outcome')\n",
    "fig.legend(title='Outcome', loc='center right', bbox_to_anchor=(1.25, 0.5), ncol=1)\n",
    "\n",
    "plt.show()"
   ]
  },
  {
   "cell_type": "markdown",
   "metadata": {},
   "source": [
    "Beräkna expected value, experimental value och plotta outcomes för en ojämn sannolikhetsfördelning med 6 outcomes (ex en biased tärning)"
   ]
  },
  {
   "cell_type": "code",
   "execution_count": 6,
   "metadata": {},
   "outputs": [],
   "source": [
    "antal_experiment = 20"
   ]
  },
  {
   "cell_type": "code",
   "execution_count": null,
   "metadata": {},
   "outputs": [],
   "source": [
    "numbers = [1, 2, 3, 4, 5, 6]\n",
    "probabilities = [0.25, 0.25, 0.125, 0.125, 0.125, 0.125] # the probability for each outcome\n",
    " \n",
    "expected_value = sum([number*probability for number, probability in zip(numbers, probabilities)])\n",
    "print(f'Expected value E(X) = {expected_value}')\n",
    "\n",
    "outcomes = random.choices(numbers, weights=probabilities, k=antal_experiment) # repeat the experiment 100000\n",
    "\n",
    "experimental_mean_value = sum(outcomes)/len(outcomes)\n",
    "print(f'Experimental mean value = {experimental_mean_value}')\n",
    "\n",
    "outcomes_df = pd.DataFrame(outcomes)\n",
    "outcomes_df.rename(columns={0: 'outcome'}, inplace=True)\n",
    "\n",
    "fig = sns.countplot(outcomes_df, x='outcome', hue='outcome')\n",
    "fig.set_title(f'Countplot over outcomes with n= {antal_experiment}');\n",
    "fig.set_xlabel('Outcome')\n",
    "fig.legend(title='Outcome', loc='center right', bbox_to_anchor=(1.25, 0.5), ncol=1)\n",
    "\n",
    "plt.show()"
   ]
  },
  {
   "cell_type": "markdown",
   "metadata": {},
   "source": [
    "Plotta B(10, 1/2)"
   ]
  },
  {
   "cell_type": "code",
   "execution_count": null,
   "metadata": {},
   "outputs": [],
   "source": [
    "0.00097+0.0097+0.043"
   ]
  },
  {
   "cell_type": "code",
   "execution_count": null,
   "metadata": {},
   "outputs": [],
   "source": [
    "x = [0, 1, 2, 3, 4, 5, 6, 7, 8, 9, 10]\n",
    "probabilities = [0.00097, 0.0097, 0.043, 0.11, 0.2, 0.25, 0.2, 0.11, 0.043, 0.0097, 0.00097]\n",
    "\n",
    "sns.barplot(x=x, y=probabilities, hue=x, \n",
    "            palette=sns.color_palette(\"viridis\", len(x)))\n",
    "plt.xlabel('x')\n",
    "plt.ylabel('P(X=x)', rotation=0, labelpad=30)\n",
    "plt.title('Binomial Distribution, n=10, p=1/2')\n",
    "plt.show()"
   ]
  },
  {
   "cell_type": "markdown",
   "metadata": {},
   "source": [
    "Plotta X ~ B(10, 1/6)"
   ]
  },
  {
   "cell_type": "code",
   "execution_count": null,
   "metadata": {},
   "outputs": [],
   "source": [
    "x = [0, 1, 2, 3, 4, 5, 6, 7, 8, 9, 10]\n",
    "probabilities = [0.16, 0.32, 0.29, 0.15, 0.05, 0.01, 0.002, 0.0002, 0.00001, 0.00000001, 0.000000001]\n",
    "\n",
    "sns.barplot(x=x, y=probabilities, hue=x,\n",
    "            palette=sns.color_palette(\"viridis\", len(x)))\n",
    "plt.xlabel('x')\n",
    "plt.ylabel('P(X=x)', rotation=0, labelpad=30)\n",
    "plt.title('Binomial Distribution, n=10, p=1/6')\n",
    "\n",
    "plt.show()"
   ]
  },
  {
   "cell_type": "code",
   "execution_count": null,
   "metadata": {},
   "outputs": [],
   "source": []
  }
 ],
 "metadata": {
  "kernelspec": {
   "display_name": "hf2",
   "language": "python",
   "name": "python3"
  },
  "language_info": {
   "codemirror_mode": {
    "name": "ipython",
    "version": 3
   },
   "file_extension": ".py",
   "mimetype": "text/x-python",
   "name": "python",
   "nbconvert_exporter": "python",
   "pygments_lexer": "ipython3",
   "version": "3.11.11"
  }
 },
 "nbformat": 4,
 "nbformat_minor": 2
}
