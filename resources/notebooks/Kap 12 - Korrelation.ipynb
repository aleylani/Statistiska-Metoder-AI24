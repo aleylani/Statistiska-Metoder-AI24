{
 "cells": [
  {
   "cell_type": "code",
   "execution_count": 1,
   "metadata": {},
   "outputs": [],
   "source": [
    "import numpy as np\n",
    "import matplotlib.pyplot as plt"
   ]
  },
  {
   "cell_type": "code",
   "execution_count": 2,
   "metadata": {},
   "outputs": [],
   "source": [
    "def R(x, y):\n",
    "    \n",
    "    ssx = sum([(x_i - np.mean(x))**2 for x_i in x])\n",
    "    ssy = sum([(y_i - np.mean(y))**2 for y_i in y])\n",
    "    ssxy = sum([(x_i - np.mean(x))*(y_i - np.mean(y)) for x_i, y_i in zip(x, y)])\n",
    "\n",
    "    r = ssxy/np.sqrt(ssx*ssy)\n",
    "    r = round(r, 4)  # avrundra\n",
    "\n",
    "    plt.scatter(x,y)\n",
    "    plt.title(f'Korrelationskoefficient: {r}')\n",
    "    plt.show()"
   ]
  },
  {
   "cell_type": "code",
   "execution_count": null,
   "metadata": {},
   "outputs": [],
   "source": [
    "# data från tabell s.326\n",
    "\n",
    "x = [52, 127, 155, 171, 226, 239, 312]\n",
    "y = [2130, 3600, 4350, 4280, 5590, 6670, 7100]\n",
    "\n",
    "R(x,y)\n",
    "\n"
   ]
  },
  {
   "cell_type": "code",
   "execution_count": null,
   "metadata": {},
   "outputs": [],
   "source": [
    "x = [52, 127, 155, 171, 226, 239, 312]\n",
    "y = [2130, 3600, 4350, 4280, 5590, 6670, 7100]\n",
    "\n",
    "y = -np.array(y)\n",
    "\n",
    "R(x,y)"
   ]
  },
  {
   "cell_type": "code",
   "execution_count": null,
   "metadata": {},
   "outputs": [],
   "source": [
    "# y = 1x\n",
    "\n",
    "x = [1,2,3,4,5]\n",
    "y = [1,2,3,4,5]\n",
    "\n",
    "R(x,y)"
   ]
  },
  {
   "cell_type": "code",
   "execution_count": null,
   "metadata": {},
   "outputs": [],
   "source": [
    "# y = 1000x\n",
    "\n",
    "x = [1,2,3,4,5]\n",
    "y = [1000*x for x in x]\n",
    "\n",
    "R(x,y)"
   ]
  },
  {
   "cell_type": "code",
   "execution_count": null,
   "metadata": {},
   "outputs": [],
   "source": [
    "# y = -1000x\n",
    "\n",
    "x = [1,2,3,4,5]\n",
    "y = [-1000*x for x in x]\n",
    "\n",
    "R(x,y)"
   ]
  },
  {
   "cell_type": "code",
   "execution_count": null,
   "metadata": {},
   "outputs": [],
   "source": [
    "import random\n",
    "\n",
    "x = [x for x in range(20)]\n",
    "y = [random.randint(0,100) for x in x]\n",
    "\n",
    "R(x,y)"
   ]
  },
  {
   "cell_type": "code",
   "execution_count": null,
   "metadata": {},
   "outputs": [],
   "source": [
    "x = [x for x in range(20)]\n",
    "y = [x**10 for x in x]\n",
    "\n",
    "R(x,y)"
   ]
  },
  {
   "cell_type": "code",
   "execution_count": null,
   "metadata": {},
   "outputs": [],
   "source": [
    "x = [x for x in range(200)]\n",
    "y = [np.sin(x*np.pi/39) for x in x]\n",
    "\n",
    "R(x,y)"
   ]
  }
 ],
 "metadata": {
  "kernelspec": {
   "display_name": "hf2",
   "language": "python",
   "name": "python3"
  },
  "language_info": {
   "codemirror_mode": {
    "name": "ipython",
    "version": 3
   },
   "file_extension": ".py",
   "mimetype": "text/x-python",
   "name": "python",
   "nbconvert_exporter": "python",
   "pygments_lexer": "ipython3",
   "version": "3.11.11"
  }
 },
 "nbformat": 4,
 "nbformat_minor": 2
}
