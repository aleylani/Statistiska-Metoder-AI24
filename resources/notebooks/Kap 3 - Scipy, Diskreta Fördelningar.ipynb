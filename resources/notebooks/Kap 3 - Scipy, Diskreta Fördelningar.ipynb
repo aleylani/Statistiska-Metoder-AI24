{
 "cells": [
  {
   "cell_type": "markdown",
   "id": "48017a7d-98a1-4ea0-991d-eebc514a99e5",
   "metadata": {
    "slideshow": {
     "slide_type": "slide"
    },
    "tags": []
   },
   "source": [
    "<h1>Kapitel 3 - Diskreta fördelningar</h1>\n",
    "Vi kommer här gå igenom några av de fördelningar som vi pratat om under föreläsningen, och hur vi kan implementera och räkna på dem i Python med hjälp av paketet SciPy.<br>\n",
    "Vi börjar med att importera de paket vi behöver. Den här listan kommer ni känna igen snart."
   ]
  },
  {
   "cell_type": "code",
   "execution_count": null,
   "id": "22ec4c1c-66cf-484d-9296-17f5cbd1b0c6",
   "metadata": {
    "slideshow": {
     "slide_type": "fragment"
    },
    "tags": []
   },
   "outputs": [],
   "source": [
    "# Importera nödvändiga paket\n",
    "import numpy as np\n",
    "import matplotlib.pyplot as plt"
   ]
  },
  {
   "cell_type": "markdown",
   "id": "206602a8-5dd3-42f0-8ab2-4c0a373df232",
   "metadata": {
    "slideshow": {
     "slide_type": "slide"
    },
    "tags": []
   },
   "source": [
    "<h3>Generella funktioner i scipy.stats</h3>\n",
    "Alla fördelningar i SciPy har en rad funktioner kopplade till sig, där vi kan beräkna och ta fram i stort sett alla parametrar vi kan tänkas behöva när vi arbetar med statistik och fördelningar.<br>\n",
    "Några av de vanligast använda funktionerna är:\n",
    "<ul>\n",
    "<li>rvs() - random variates - Den här funktionen ger en NumPy-array med slumpmässiga värden från den givna fördelningen.</li>\n",
    "<li>pmf() - probability mass function - Den här funktionen beräknar sannolikheten P(X=x) i en given punkt.</li>\n",
    "<li>cdf() - cumulative distribution function - Den här funktionen beräknar den kumulativa sannolikheten i en given punkt F(x) = P(X <= x).</li>\n",
    "<li>stats() - Den här funktionen beräknar medelvärde och varians</li>\n",
    "</ul>"
   ]
  },
  {
   "cell_type": "markdown",
   "id": "aa06cba5-e9f8-4327-9b73-c86a07369392",
   "metadata": {
    "slideshow": {
     "slide_type": "slide"
    },
    "tags": []
   },
   "source": [
    "<h3>Binomialfördelningen</h3>\n",
    "Den första diskreta fördelningen i Lantz är binomialfördelningen. Binomialfördelningen finns i SciPy under beteckningen 'binom'. Vi tar och importerar den."
   ]
  },
  {
   "cell_type": "code",
   "execution_count": null,
   "id": "19bc0cbe-eaf3-4a6c-9e2c-dff6467f01e0",
   "metadata": {
    "slideshow": {
     "slide_type": "fragment"
    },
    "tags": []
   },
   "outputs": [],
   "source": [
    "from scipy.stats import binom # Importera Binomialfördelningen från SciPy."
   ]
  },
  {
   "cell_type": "markdown",
   "id": "383fa8c6-5eeb-4c7f-b559-f934fca16942",
   "metadata": {
    "slideshow": {
     "slide_type": "subslide"
    },
    "tags": []
   },
   "source": [
    "<h5>Exempel 3-5</h5>\n",
    "Produktionen av en viss elektronisk komponent kännetecknas av att endast vart 10:e exemplar fungerar som det ska. Funktionen hos varje enskilt exemplar är oberoende av huruvida andra exemplar fungerar. Produktionstakten är två minuter per komponent.\n",
    "<ol>\n",
    "    <li>Vad är det förväntade antalet fungerande komponenter av en timmes produktion, och vad är variansen?</li>\n",
    "    <li>Hur sannolikt är det att man har <strong>exakt</strong> 2 fungerande komponenter efter en timmes produktion?</li>\n",
    "    <li>Hur sannolikt är det att man har <strong>minst</strong> 2 fungerande komponenter efter en timmes produktion?</li>"
   ]
  },
  {
   "cell_type": "markdown",
   "id": "2396d889-6e16-42c5-9d12-338a53d23905",
   "metadata": {
    "slideshow": {
     "slide_type": "subslide"
    },
    "tags": []
   },
   "source": [
    "Vi börjar med att definiera våra parametrar för vår fördelning. En binomialfördelning har parameterarna n och p.<br>\n",
    "p är sannolikheten för ett lyckat försök, i det här fallet en fungerande komponent. Eftersom vart 10:e exemplar fungerar som det ska är p = 1/10 = 0.1.<br>\n",
    "n är antalet försök. I det här fallet ska vi utvärdera över en timma, och produktionstakten är 2 minuter. Därav blir n antalet försök inom en timma, 60/2 = 30."
   ]
  },
  {
   "cell_type": "code",
   "execution_count": null,
   "id": "79ac339a-4ed0-445a-b68e-e28e46210d15",
   "metadata": {
    "slideshow": {
     "slide_type": "fragment"
    },
    "tags": []
   },
   "outputs": [],
   "source": [
    "p = 0.1 # Sannolikheten för ett lyckat exemplar, givet i exemplet.\n",
    "n = 30 # Antalet producerade komponenter på en timme, givet i exemplet genom \n",
    "       # tiden (60 min) dividerat med produktionstiden per komponent (2 min).\n",
    "       # 60/2 = 30"
   ]
  },
  {
   "cell_type": "markdown",
   "id": "b890dd15-c6b4-4c87-ba14-093eb7b26be5",
   "metadata": {
    "slideshow": {
     "slide_type": "subslide"
    },
    "tags": []
   },
   "source": [
    "Uppgift 1. Här använder vi oss av stats() för att beräkna medelvärdet (mean) och variansen (var) för vår fördelningen. När vi kallar på stats() använder vi oss av våra definierade parametrar n och p. Slutligen printar vi ut resultatet."
   ]
  },
  {
   "cell_type": "code",
   "execution_count": null,
   "id": "f2bad699-fd22-4232-a8d4-6298c10fc7ec",
   "metadata": {
    "slideshow": {
     "slide_type": "fragment"
    },
    "tags": []
   },
   "outputs": [],
   "source": [
    "mean, var = binom.stats(n=n, p=p) # Beräkna medelvärde och varians med binom.stats()\n",
    "\n",
    "print('Mean: ' + str(mean)) # Printa förväntansvärde n*p\n",
    "print('Variance: ' + str(var)) # Printa varians "
   ]
  },
  {
   "cell_type": "markdown",
   "id": "0d79b28f-2a9e-4673-baca-ec80810ad38a",
   "metadata": {
    "slideshow": {
     "slide_type": "subslide"
    },
    "tags": []
   },
   "source": [
    "Uppgift 2. I uppgift 2 skall vi beräkna sannolikheten att vi får utfallet P(X = 2). Vi använder oss av massfunktionen (pmf), och beräknar sannolikheten för vårt utfall k=2."
   ]
  },
  {
   "cell_type": "code",
   "execution_count": null,
   "id": "c4ee7572-fac4-4184-9846-3bb36f7b5563",
   "metadata": {
    "slideshow": {
     "slide_type": "fragment"
    },
    "tags": []
   },
   "outputs": [],
   "source": [
    "result = binom.pmf(k=2, n=n, p=p) # Beräkna sannolikhet P(X=2) med pmf()\n",
    "\n",
    "print(f'P(X=2) = {round(result ,3)}') # Printa resultat"
   ]
  },
  {
   "cell_type": "markdown",
   "id": "306f4b21-a903-4e75-8033-d69e9ccf4c0c",
   "metadata": {
    "slideshow": {
     "slide_type": "subslide"
    },
    "tags": []
   },
   "source": [
    "Uppgift 3. I uppgift 3 skall vi beräkna sannolikheten att vi får utfallet P(X >= 2). Genom komplementregeln har vi att P(X>=2) = 1 - P(X<=1). \n",
    "\n",
    "P(X<=1) kan vi få från kumulativa fördelningsfunktionen F(1) - som här beräknas av funktionen cmf. \n",
    "\n",
    "Vi evaluerar kumulativa fördelningsfunktionen för k=1 och subtraherar sedan det från den totala sannolikheten 1."
   ]
  },
  {
   "cell_type": "code",
   "execution_count": null,
   "id": "bd2d4bdb-215f-43ec-920c-2e65e82fbce7",
   "metadata": {
    "slideshow": {
     "slide_type": "fragment"
    },
    "tags": []
   },
   "outputs": [],
   "source": [
    "result = 1 - binom.cdf(k=1, n=n, p=p) # Beräkna sannolikhet P(X>=2) med cdf()\n",
    "\n",
    "print(f'P(X>=2) = {round(result, 3)}') # Printa resultat"
   ]
  },
  {
   "cell_type": "markdown",
   "id": "7a96812e",
   "metadata": {},
   "source": [
    "**I'll leave this as an excercise for the reader**"
   ]
  },
  {
   "cell_type": "code",
   "execution_count": null,
   "id": "8fc9e460",
   "metadata": {},
   "outputs": [],
   "source": [
    "import seaborn as sns\n",
    "\n",
    "n = 30\n",
    "p = 0.5\n",
    "\n",
    "x_vals = [x for x in range(0,31)]\n",
    "prob_vals = [binom.pmf(k=x, n=n, p=p) for x in range(0,31)]\n",
    "\n",
    "sns.barplot(x=x_vals, y=prob_vals)\n",
    "#binom.pmf(k=2, n=n, p=p)"
   ]
  },
  {
   "cell_type": "code",
   "execution_count": null,
   "id": "81851206",
   "metadata": {},
   "outputs": [],
   "source": []
  },
  {
   "cell_type": "markdown",
   "id": "dfa43ab9-f223-49f4-88c0-f2dd4b290844",
   "metadata": {
    "slideshow": {
     "slide_type": "slide"
    },
    "tags": []
   },
   "source": [
    "<h3>Poissonfördelningen</h3>\n",
    "Precis som med binomialfördelningen så finns Poissonfördelningen i SciPy. Vi importerar den för nästa exempel."
   ]
  },
  {
   "cell_type": "code",
   "execution_count": null,
   "id": "bf0ef90e-7027-46ea-bbfa-2b2d703eb64f",
   "metadata": {
    "slideshow": {
     "slide_type": "fragment"
    },
    "tags": []
   },
   "outputs": [],
   "source": [
    "from scipy.stats import poisson # Importera Poissonfördelningen från SciPy."
   ]
  },
  {
   "cell_type": "markdown",
   "id": "86fb7216-2895-4a3d-8053-8ce3314db745",
   "metadata": {
    "slideshow": {
     "slide_type": "subslide"
    },
    "tags": []
   },
   "source": [
    "<h5>Exempel 3-6</h5>\n",
    "En viss typ av motor till en maskin går sönder var 1000:e gång den startas. Per månad startas motorn 200 gånger.\n",
    "<ol>\n",
    "    <li>Hur många gånger går motorn i medeltal sönder per år?</li>\n",
    "    <li>Hur sannolikt är det att den går sönder <strong>exakt</strong> 3 gånger ett visst år</li>\n",
    "    <li>Hur sannolikt är det att den går sönder <strong>högst</strong> 1 gång ett visst år?</li>"
   ]
  },
  {
   "cell_type": "markdown",
   "id": "2a63e642-827d-4bea-a85d-1aad529faca0",
   "metadata": {
    "slideshow": {
     "slide_type": "fragment"
    },
    "tags": []
   },
   "source": [
    "Vi gör som tidigare att vi först definierar paramterarna för vår fördelning. Formellt sett följer vår data en binomialfördelning med p = 0.001 och n = 2400 (200*12). Men eftersom n > 10, p < 0.1, samt E(X) = 2.4 (alltså mellan 0.1-50) kan vi approximera vår datamängd med en Poissonfördelning med $\\mu$ = E(X) = 2.4."
   ]
  },
  {
   "cell_type": "code",
   "execution_count": null,
   "id": "34d0af57-3191-4407-ae56-7af5f17573ab",
   "metadata": {
    "slideshow": {
     "slide_type": "fragment"
    },
    "tags": []
   },
   "outputs": [],
   "source": [
    "mu = 2.4 # Sätt mu till E(X) = 2.4"
   ]
  },
  {
   "cell_type": "markdown",
   "id": "16f3dddb-17c2-4f92-9016-58e8dfa46d2e",
   "metadata": {
    "slideshow": {
     "slide_type": "subslide"
    },
    "tags": []
   },
   "source": [
    "Uppgift 1. Här kan vi, likt den förra uppgiften, använda oss av stats() för att räkna ut medelvärdet. Vi har dock en Posissonfördelning, som definieras utifrån sitt väntevärde $\\mu$, så vi behöver egentligen heller göra den här beräkningen, eftersom vi redan har värdet på $\\mu$ = 2.4. <br>\n",
    "Eftersom det är en poissonfördelning kommer medelvärdet och variansen ha samma värde."
   ]
  },
  {
   "cell_type": "code",
   "execution_count": null,
   "id": "4beefe0c-df74-48de-baa6-d1b19b0efa6b",
   "metadata": {
    "slideshow": {
     "slide_type": "fragment"
    },
    "tags": []
   },
   "outputs": [],
   "source": [
    "mean, var = poisson.stats(mu=mu) # Beräkna medelvärde och varians med binom.stats()\n",
    "\n",
    "print(f'Mean: {mean}') # Printa medelvärde\n",
    "print(f'Variance: {var}') # Printa varians"
   ]
  },
  {
   "cell_type": "markdown",
   "id": "df768390-1e8f-452c-a47f-55cd442855c6",
   "metadata": {
    "slideshow": {
     "slide_type": "subslide"
    },
    "tags": []
   },
   "source": [
    "Uppgift 2. Här behöver vi beräkna sannolikheten P(X=3), det gör vi med massfunktionen pmf()."
   ]
  },
  {
   "cell_type": "code",
   "execution_count": null,
   "id": "4f4d3151-2642-4747-82f0-097144731f83",
   "metadata": {
    "slideshow": {
     "slide_type": "fragment"
    },
    "tags": []
   },
   "outputs": [],
   "source": [
    "result = poisson.pmf(k=3, mu=mu) # Beräkna P(X=3) med pmf()\n",
    "\n",
    "print(f'P(X=3) = {round(result, 3)}') # Printa resultat"
   ]
  },
  {
   "cell_type": "markdown",
   "id": "c28aeb0e-af83-47ab-a28d-c4fc1a3caa82",
   "metadata": {
    "slideshow": {
     "slide_type": "subslide"
    },
    "tags": []
   },
   "source": [
    "Uppgift 3. Här behöver vi beräkna sannolikheten P(X<=1) vilket fås ur fördelningsfunktionen F(1). Det beräknar vi med hjälp av cmf()"
   ]
  },
  {
   "cell_type": "code",
   "execution_count": null,
   "id": "ce4b5fe7-b352-4da1-9354-fbbb88ad4db7",
   "metadata": {
    "slideshow": {
     "slide_type": "fragment"
    },
    "tags": []
   },
   "outputs": [],
   "source": [
    "result = poisson.cdf(k=1, mu=mu) # Beräkna sannolikheten P(X<=1) med cdf()\n",
    "\n",
    "print(f'P(X<=1) = {round(result,3)}') # Printa resultat"
   ]
  },
  {
   "cell_type": "markdown",
   "id": "b4103a47-79e4-4313-82eb-72df53133873",
   "metadata": {
    "slideshow": {
     "slide_type": "slide"
    },
    "tags": []
   },
   "source": [
    "<h3>Geometriska fördelningen</h3>\n",
    "Geometriska fördelnigen importeras från SciPy som 'geom'.\n",
    "Dokumentationen för geometriska fördelningen finns <a href=https://docs.scipy.org/doc/scipy/reference/generated/scipy.stats.geom.html>här</a>"
   ]
  },
  {
   "cell_type": "code",
   "execution_count": null,
   "id": "1afe3be3-bb85-4baf-850a-b074ee2ceba1",
   "metadata": {
    "slideshow": {
     "slide_type": "fragment"
    },
    "tags": []
   },
   "outputs": [],
   "source": [
    "from scipy.stats import geom # Importera geometriska fördelningen med SciPy"
   ]
  },
  {
   "cell_type": "markdown",
   "id": "1008906a-6518-4916-8ec0-f945e91e050b",
   "metadata": {
    "slideshow": {
     "slide_type": "fragment"
    },
    "tags": []
   },
   "source": [
    "<h5>Exempel 3-8</h5>\n",
    "Kajsa har just tagit sin civilekonomexamen, och tänker börja söka jobb. Hon söker jobb ett och ett, och hon har sannolikheten 0.1 att få jobb vid varje enskild ansökan.\n",
    "<ol>\n",
    "    <li>Hur många jobb kan hon förväntas behöva söka innan hon får ett?</li>\n",
    "    <li>Hur sannolikt är det att hon får jobb på fjärde försöket?</li>\n",
    "    <li>Hur många jobb måste hon vara beredd på att söka för att vara minst 50% säker på att få jobb?</li>\n",
    "</ol>\n",
    "Vi börjar med att bestämma parametrarna för fördelningen. För den geometriska fördelningen är det enkelt, den har en parameter 'p' som bestämmer sannolikheten för ett lyckat försök. I vårt fall är p = 0.1."
   ]
  },
  {
   "cell_type": "code",
   "execution_count": null,
   "id": "9c87de8a-61d7-4c71-b08c-42e46834d8a5",
   "metadata": {
    "slideshow": {
     "slide_type": "fragment"
    },
    "tags": []
   },
   "outputs": [],
   "source": [
    "p = 0.1 # Sannolikheten för ett lyckat försök"
   ]
  },
  {
   "cell_type": "markdown",
   "id": "cbeb8895-26b9-450f-a64d-03e0226d9bb7",
   "metadata": {
    "slideshow": {
     "slide_type": "subslide"
    },
    "tags": []
   },
   "source": [
    "Uppgift 1. Hur många jobb Kajsa kan förväntas söka innan hon får ett ges av väntevärdet E(X). Det kan vi beräkna m.h.a. stats()."
   ]
  },
  {
   "cell_type": "code",
   "execution_count": null,
   "id": "eae94d20-1ee7-4527-aff2-09701845ead8",
   "metadata": {
    "slideshow": {
     "slide_type": "fragment"
    },
    "tags": []
   },
   "outputs": [],
   "source": [
    "mean, var = geom.stats(p=p) # Beräkna väntevärdet för X~G(p)\n",
    "\n",
    "print(f'Mean : {mean}') # Printa resultatet"
   ]
  },
  {
   "cell_type": "markdown",
   "id": "af7ca796-3285-42fe-9660-9d464aab9661",
   "metadata": {
    "slideshow": {
     "slide_type": "subslide"
    },
    "tags": []
   },
   "source": [
    "Uppgift 2. Hur sannolikt det är att Kajsa får jobb på fjärde försöket ges av P(X=4), det beräknar vi ur massfunktionen pmf()."
   ]
  },
  {
   "cell_type": "code",
   "execution_count": null,
   "id": "f3effc7d-7d77-417f-9854-52f5b4fda4ea",
   "metadata": {
    "slideshow": {
     "slide_type": "fragment"
    },
    "tags": []
   },
   "outputs": [],
   "source": [
    "result = geom.pmf(k=4, p=p) # Beräkna P(X=4)\n",
    "\n",
    "print(f'P(X=4) = {round(result, 3)}') # Printa resultat"
   ]
  },
  {
   "cell_type": "markdown",
   "id": "d62d75e1-d27d-454e-a25a-df7363f45273",
   "metadata": {
    "slideshow": {
     "slide_type": "subslide"
    },
    "tags": []
   },
   "source": [
    "Uppgift 3. Hur många jobb hon måste söka för att vara minst 50% säker på att få ett jobb räknar Lantz ut genom att göra en tabell över alla F(x) tills resultatet blir högre än 0.5. Ett annat sätt att göra det är att lösa uppgiften grafiskt genom att plotta fördelningen och se var F(x) blir högre än 0.5."
   ]
  },
  {
   "cell_type": "code",
   "execution_count": null,
   "id": "6eae390c-b9fd-4df0-aaf8-a9294bcd704d",
   "metadata": {
    "slideshow": {
     "slide_type": "fragment"
    },
    "tags": []
   },
   "outputs": [],
   "source": [
    "x = np.linspace(0,10,1000) # Generera en array med x-värden från 0-10\n",
    "y = geom.cdf(k=x, p=p) # Räkna ut värdet på kumulativa fördelningsfunktionen för varje x\n",
    "\n",
    "fig, ax = plt.subplots() # Skapa en plot med matplotlib\n",
    "fig.set_figheight(2) # Sätt figurhöjd\n",
    "fig.set_figwidth(3) # Sätt figurbredd\n",
    "\n",
    "ax.plot(x,y) # Plotta x vs y\n",
    "plt.xlabel('Antal sökta jobb') # Sätt label x-axel\n",
    "plt.ylabel('Sannolikhet') # Sätt label y-axel\n",
    "plt.show() # Visa plotten"
   ]
  },
  {
   "cell_type": "markdown",
   "id": "f6bb2070-2209-4af4-99a3-17688245437b",
   "metadata": {
    "slideshow": {
     "slide_type": "fragment"
    },
    "tags": []
   },
   "source": [
    "Vi ser här att sannolikheten når över 0.5 vid ungefär X = 7."
   ]
  }
 ],
 "metadata": {
  "kernelspec": {
   "display_name": "Python 3 (ipykernel)",
   "language": "python",
   "name": "python3"
  },
  "language_info": {
   "codemirror_mode": {
    "name": "ipython",
    "version": 3
   },
   "file_extension": ".py",
   "mimetype": "text/x-python",
   "name": "python",
   "nbconvert_exporter": "python",
   "pygments_lexer": "ipython3",
   "version": "3.11.5"
  }
 },
 "nbformat": 4,
 "nbformat_minor": 5
}
